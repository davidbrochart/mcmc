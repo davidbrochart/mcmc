{
 "cells": [
  {
   "cell_type": "code",
   "execution_count": null,
   "metadata": {},
   "outputs": [],
   "source": [
    "%matplotlib inline\n",
    "import sys\n",
    "sys.path.append('../mcmc')\n",
    "import smc\n",
    "import dist\n",
    "import numpy as np\n",
    "import matplotlib.pyplot as plt\n",
    "import time\n",
    "from dask.distributed import Client"
   ]
  },
  {
   "cell_type": "code",
   "execution_count": null,
   "metadata": {},
   "outputs": [],
   "source": [
    "chains = 500\n",
    "\n",
    "n = 4\n",
    "\n",
    "mu1 = np.ones(n) * (1. / 2)\n",
    "mu2 = -mu1\n",
    "\n",
    "stdev = 0.1\n",
    "sigma = np.power(stdev, 2) * np.eye(n)\n",
    "isigma = np.linalg.inv(sigma)\n",
    "dsigma = np.linalg.det(sigma)\n",
    "\n",
    "w1 = 0.1\n",
    "w2 = (1 - w1)\n",
    "\n",
    "def two_gaussians(x):\n",
    "    log_like1 = - 0.5 * n * np.log(2 * np.pi) \\\n",
    "                - 0.5 * np.log(dsigma) \\\n",
    "                - 0.5 * (x - mu1).T.dot(isigma).dot(x - mu1)\n",
    "    log_like2 = - 0.5 * n * np.log(2 * np.pi) \\\n",
    "                - 0.5 * np.log(dsigma) \\\n",
    "                - 0.5 * (x - mu2).T.dot(isigma).dot(x - mu2)\n",
    "    logp = np.log(w1 * np.exp(log_like1) + w2 * np.exp(log_like2))\n",
    "    #time.sleep(0.001)\n",
    "    return logp\n",
    "\n",
    "x = [dist.uniform_pdf(-2, 2)] * n\n",
    "def prior_logp(v):\n",
    "    logp = sum([dist.logp_from_pdf(pdf, v[i]) for i, pdf in enumerate(x)])\n",
    "    return logp"
   ]
  },
  {
   "cell_type": "code",
   "execution_count": null,
   "metadata": {},
   "outputs": [],
   "source": [
    "client = Client()\n",
    "client"
   ]
  },
  {
   "cell_type": "code",
   "execution_count": null,
   "metadata": {},
   "outputs": [],
   "source": [
    "t0 = time.time()\n",
    "posterior = smc.smc(x, two_gaussians, prior_logp, dask_client=client)\n",
    "t1 = time.time()\n",
    "print(f'Took {t1-t0} seconds')"
   ]
  },
  {
   "cell_type": "code",
   "execution_count": null,
   "metadata": {},
   "outputs": [],
   "source": [
    "plt.figure(figsize=(15, 10))\n",
    "for i in range(n):\n",
    "    ax = plt.subplot(100*n+10+i+1)\n",
    "    cdf = dist.cdf_from_samples(posterior[:, i])\n",
    "    pdf = dist.pdf_from_cdf(cdf)\n",
    "    plt.plot(*pdf)\n",
    "plt.show()"
   ]
  }
 ],
 "metadata": {
  "kernelspec": {
   "display_name": "Python 3",
   "language": "python",
   "name": "python3"
  },
  "language_info": {
   "codemirror_mode": {
    "name": "ipython",
    "version": 3
   },
   "file_extension": ".py",
   "mimetype": "text/x-python",
   "name": "python",
   "nbconvert_exporter": "python",
   "pygments_lexer": "ipython3",
   "version": "3.7.1"
  }
 },
 "nbformat": 4,
 "nbformat_minor": 2
}
